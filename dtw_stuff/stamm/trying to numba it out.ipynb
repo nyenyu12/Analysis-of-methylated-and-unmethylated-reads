{
 "cells": [
  {
   "cell_type": "code",
   "execution_count": 1,
   "metadata": {},
   "outputs": [],
   "source": [
    "#imports\n",
    "from __future__ import absolute_import, division\n",
    "import numbers\n",
    "import numpy as np\n",
    "from collections import defaultdict\n",
    "from numba import jit\n",
    "import timeit\n",
    "from time import perf_counter \n",
    "import fastdtw as fdtw\n",
    "#from test_arrays import X_train\n",
    "import fastdtw_numba as fdtw_numba\n",
    "\n",
    "try:\n",
    "    range = xrange\n",
    "except NameError:\n",
    "    pass"
   ]
  },
  {
   "cell_type": "code",
   "execution_count": 13,
   "metadata": {},
   "outputs": [
    {
     "name": "stdout",
     "output_type": "stream",
     "text": [
      "hi\n"
     ]
    }
   ],
   "source": [
    "#test parameters\n",
    "a=5.0\n",
    "b=-2.5\n",
    "p=1\n",
    "e=np.array([1.0,3.0,5.0])\n",
    "f=np.array([2.5,4.1,7.8])\n",
    "long_array1=np.sin(np.linspace(0,100,100))\n",
    "long_array2=np.cos(np.linspace(0,100,100))\n",
    "print ('hi')"
   ]
  },
  {
   "cell_type": "code",
   "execution_count": 3,
   "metadata": {},
   "outputs": [],
   "source": [
    "@jit(nopython=True)\n",
    "def __difference_numba(a, b):\n",
    "    return abs(a-b)#np.abs(a - b)"
   ]
  },
  {
   "cell_type": "code",
   "execution_count": 6,
   "metadata": {},
   "outputs": [],
   "source": [
    "expand_window_input=([(0, 0), (1, 0), (2, 1), (3, 2), (4, 2), (5, 2), (6, 2), (7, 2), (8, 2), (9, 2), (10, 3), (11, 4), (12, 5),\n",
    "                      (13, 6), (14, 7), (15, 8), (16, 9), (17, 10), (18, 11), (19, 12), (20, 13), (21, 14), (22, 15), (23, 16),\n",
    "                      (24, 17), (25, 18), (26, 19), (27, 20), (28, 21), (29, 22), (30, 23), (31, 24), (32, 25), (33, 26), (34, 27),\n",
    "                      (35, 28), (36, 29), (37, 30), (38, 31), (39, 32), (40, 33), (41, 34), (42, 35), (43, 36), (44, 37), (45, 38),\n",
    "                      (46, 39), (47, 40), (48, 41), (48, 42), (48, 43), (48, 44), (48, 45), (48, 46), (48, 47), (49, 48), (49, 49)],\n",
    "                     100,100,1)\n",
    "__dtw_input=([0.4234427818014917, 0.5058827421635426, -0.8629843805501007, 0.24393041157207743, 0.6510428491445169, -0.8095959125199639, 0.05238316655127753, 0.7640822413577639, -0.716264145185729, -0.14174852395361595, 0.8394238572019299, -0.587593818590622, -0.32888672100006594, 0.8733505426435297, -0.42993318287679616, -0.49979852592805607, 0.864188445665731, -0.2510607925841257, -0.6460516069122061, 0.8123895996547932, -0.059801733551370306, -0.760430227685132, 0.720509621280496, 0.13440778324087557, -0.8372912526864023, 0.5930816231975609, 0.3219859791089889, -0.8728425642941611, 0.43639256237852525, 0.4936782470266433, -0.8653301557771003, 0.258173058453729, 0.6410137492097361, -0.8151246693003438, 0.06721598559287761, 0.7567233456208619, -0.7247031094312771, -0.12705734441433142, 0.8350982339176025, -0.5985266343520751, -0.31506200451073435, 0.8722716065077389, -0.44282045423399113, -0.48752234706438935, 0.8664094285047944, -0.2652666959995731, -0.6359296395407334, 0.8178009241092921, -0.07462538770484184, -0.7529618626328298],[0.7658875900455195, -0.7141220072414898, -0.14541509196805666, 0.8404674558576295, -0.5848339923630544, -0.33232822401428136, 0.8735809028977114, -0.426691830818467, -0.5028451693780864, 0.8635942021589137, -0.24749783434558248, -0.6485530775500266, 0.8110000707739453, -0.05609295597284614, -0.7622631096327218, 0.7183933626681568, 0.13807939898249622, -0.8383651164454244, 0.5903430453996014, 0.3254392853025653, -0.8731044282958198, 0.4331667795067597, 0.49674286677088353, -0.8647671003511832, 0.2546192220166317, 0.6435384823542925, -0.8137644740972324, 0.06350943238537787, 0.7585836285777755, -0.7226128828482232, -0.1307337429598755, 0.8362022852959485, -0.5958095025841708, -0.3185268647124207, 0.8725649553622341, -0.43961047330322917, -0.4906047219770289, 0.865877601786706, -0.26172223778888304, -0.6384774530214021, 0.8164701607279947, -0.07092132631252518, -0.7548494123714486, 0.7267802633247195, 0.1233786539216371, -0.8339791184669971, 0.6012329694877955, 0.31159146100544444, -0.8719625230223037, 0.44602244726697227],[(0, 0), (0, 1), (0, 2), (0, 3), (1, 0), (1, 1), (1, 2), (1, 3), (2, 0), (2, 1), (2, 2), (2, 3), (3, 0), (3, 1), (3, 2), (3, 3), (4, 0), (4, 1), (4, 2), (4, 3), (4, 4), (4, 5), (5, 0), (5, 1), (5, 2), (5, 3), (5, 4), (5, 5), (6, 0), (6, 1), (6, 2), (6, 3), (6, 4), (6, 5), (6, 6), (6, 7), (7, 0), (7, 1), (7, 2), (7, 3), (7, 4), (7, 5), (7, 6), (7, 7), (8, 0), (8, 1), (8, 2), (8, 3), (8, 4), (8, 5), (8, 6), (8, 7), (8, 8), (8, 9), (9, 0), (9, 1), (9, 2), (9, 3), (9, 4), (9, 5), (9, 6), (9, 7), (9, 8), (9, 9), (10, 2), (10, 3), (10, 4), (10, 5), (10, 6), (10, 7), (10, 8), (10, 9), (10, 10), (10, 11), (11, 2), (11, 3), (11, 4), (11, 5), (11, 6), (11, 7), (11, 8), (11, 9), (11, 10), (11, 11), (12, 4), (12, 5), (12, 6), (12, 7), (12, 8), (12, 9), (12, 10), (12, 11), (12, 12), (12, 13), (13, 4), (13, 5), (13, 6), (13, 7), (13, 8), (13, 9), (13, 10), (13, 11), (13, 12), (13, 13), (14, 6), (14, 7), (14, 8), (14, 9), (14, 10), (14, 11), (14, 12), (14, 13), (14, 14), (14, 15), (15, 6), (15, 7), (15, 8), (15, 9), (15, 10), (15, 11), (15, 12), (15, 13), (15, 14), (15, 15), (16, 8), (16, 9), (16, 10), (16, 11), (16, 12), (16, 13), (16, 14), (16, 15), (16, 16), (16, 17), (17, 8), (17, 9), (17, 10), (17, 11), (17, 12), (17, 13), (17, 14), (17, 15), (17, 16), (17, 17), (18, 10), (18, 11), (18, 12), (18, 13), (18, 14), (18, 15), (18, 16), (18, 17), (18, 18), (18, 19), (19, 10), (19, 11), (19, 12), (19, 13), (19, 14), (19, 15), (19, 16), (19, 17), (19, 18), (19, 19), (20, 12), (20, 13), (20, 14), (20, 15), (20, 16), (20, 17), (20, 18), (20, 19), (20, 20), (20, 21), (21, 12), (21, 13), (21, 14), (21, 15), (21, 16), (21, 17), (21, 18), (21, 19), (21, 20), (21, 21), (22, 14), (22, 15), (22, 16), (22, 17), (22, 18), (22, 19), (22, 20), (22, 21), (22, 22), (22, 23), (23, 14), (23, 15), (23, 16), (23, 17), (23, 18), (23, 19), (23, 20), (23, 21), (23, 22), (23, 23), (24, 16), (24, 17), (24, 18), (24, 19), (24, 20), (24, 21), (24, 22), (24, 23), (24, 24), (24, 25), (25, 16), (25, 17), (25, 18), (25, 19), (25, 20), (25, 21), (25, 22), (25, 23), (25, 24), (25, 25), (26, 18), (26, 19), (26, 20), (26, 21), (26, 22), (26, 23), (26, 24), (26, 25), (26, 26), (26, 27), (27, 18), (27, 19), (27, 20), (27, 21), (27, 22), (27, 23), (27, 24), (27, 25), (27, 26), (27, 27), (28, 20), (28, 21), (28, 22), (28, 23), (28, 24), (28, 25), (28, 26), (28, 27), (28, 28), (28, 29), (29, 20), (29, 21), (29, 22), (29, 23), (29, 24), (29, 25), (29, 26), (29, 27), (29, 28), (29, 29), (30, 22), (30, 23), (30, 24), (30, 25), (30, 26), (30, 27), (30, 28), (30, 29), (30, 30), (30, 31), (31, 22), (31, 23), (31, 24), (31, 25), (31, 26), (31, 27), (31, 28), (31, 29), (31, 30), (31, 31), (32, 24), (32, 25), (32, 26), (32, 27), (32, 28), (32, 29), (32, 30), (32, 31), (32, 32), (32, 33), (33, 24), (33, 25), (33, 26), (33, 27), (33, 28), (33, 29), (33, 30), (33, 31), (33, 32), (33, 33), (34, 26), (34, 27), (34, 28), (34, 29), (34, 30), (34, 31), (34, 32), (34, 33), (34, 34), (34, 35), (35, 26), (35, 27), (35, 28), (35, 29), (35, 30), (35, 31), (35, 32), (35, 33), (35, 34), (35, 35), (36, 28), (36, 29), (36, 30), (36, 31), (36, 32), (36, 33), (36, 34), (36, 35), (36, 36), (36, 37), (37, 28), (37, 29), (37, 30), (37, 31), (37, 32), (37, 33), (37, 34), (37, 35), (37, 36), (37, 37), (38, 30), (38, 31), (38, 32), (38, 33), (38, 34), (38, 35), (38, 36), (38, 37), (38, 38), (38, 39), (39, 30), (39, 31), (39, 32), (39, 33), (39, 34), (39, 35), (39, 36), (39, 37), (39, 38), (39, 39), (40, 32), (40, 33), (40, 34), (40, 35), (40, 36), (40, 37), (40, 38), (40, 39), (40, 40), (40, 41), (41, 32), (41, 33), (41, 34), (41, 35), (41, 36), (41, 37), (41, 38), (41, 39), (41, 40), (41, 41), (42, 34), (42, 35), (42, 36), (42, 37), (42, 38), (42, 39), (42, 40), (42, 41), (42, 42), (42, 43), (43, 34), (43, 35), (43, 36), (43, 37), (43, 38), (43, 39), (43, 40), (43, 41), (43, 42), (43, 43), (44, 36), (44, 37), (44, 38), (44, 39), (44, 40), (44, 41), (44, 42), (44, 43), (44, 44), (44, 45), (44, 46), (44, 47), (44, 48), (44, 49), (45, 36), (45, 37), (45, 38), (45, 39), (45, 40), (45, 41), (45, 42), (45, 43), (45, 44), (45, 45), (45, 46), (45, 47), (45, 48), (45, 49), (46, 38), (46, 39), (46, 40), (46, 41), (46, 42), (46, 43), (46, 44), (46, 45), (46, 46), (46, 47), (46, 48), (46, 49), (47, 38), (47, 39), (47, 40), (47, 41), (47, 42), (47, 43), (47, 44), (47, 45), (47, 46), (47, 47), (47, 48), (47, 49), (48, 40), (48, 41), (48, 42), (48, 43), (48, 44), (48, 45), (48, 46), (48, 47), (48, 48), (48, 49), (49, 40), (49, 41), (49, 42), (49, 43), (49, 44), (49, 45), (49, 46), (49, 47), (49, 48), (49, 49)],__difference)"
   ]
  },
  {
   "cell_type": "code",
   "execution_count": 8,
   "metadata": {},
   "outputs": [
    {
     "name": "stdout",
     "output_type": "stream",
     "text": [
      "232 ns ± 3.38 ns per loop (mean ± std. dev. of 7 runs, 1000000 loops each)\n"
     ]
    }
   ],
   "source": [
    "#test numba\n",
    "\n",
    "%timeit __difference_numba(a,b)"
   ]
  },
  {
   "cell_type": "code",
   "execution_count": 9,
   "metadata": {},
   "outputs": [
    {
     "name": "stdout",
     "output_type": "stream",
     "text": [
      "156 ns ± 1.87 ns per loop (mean ± std. dev. of 7 runs, 10000000 loops each)\n"
     ]
    }
   ],
   "source": [
    "%%timeit\n",
    "#test python\n",
    "\n",
    "__difference(a,b)"
   ]
  },
  {
   "cell_type": "code",
   "execution_count": 4,
   "metadata": {},
   "outputs": [],
   "source": [
    "@jit(nopython=True)\n",
    "def __reduce_by_half_numba(x):\n",
    "    return [(x[i] + x[1+i]) / 2 for i in range(0, len(x) - len(x) % 2, 2)]"
   ]
  },
  {
   "cell_type": "code",
   "execution_count": 14,
   "metadata": {},
   "outputs": [
    {
     "name": "stdout",
     "output_type": "stream",
     "text": [
      "2.46 µs ± 160 ns per loop (mean ± std. dev. of 7 runs, 100000 loops each)\n"
     ]
    }
   ],
   "source": [
    "#test numba\n",
    "\n",
    "%timeit __reduce_by_half_numba(long_array1)"
   ]
  },
  {
   "cell_type": "code",
   "execution_count": 41,
   "metadata": {},
   "outputs": [
    {
     "name": "stdout",
     "output_type": "stream",
     "text": [
      "36.2 µs ± 2.68 µs per loop (mean ± std. dev. of 7 runs, 10000 loops each)\n"
     ]
    }
   ],
   "source": [
    "#test python\n",
    "\n",
    "%timeit __reduce_by_half(long_array1)"
   ]
  },
  {
   "cell_type": "code",
   "execution_count": 2,
   "metadata": {},
   "outputs": [],
   "source": [
    "@jit(nopython=True)#nogil=True)\n",
    "def __expand_window_numba(path, len_x, len_y, radius):\n",
    "    path_ = set(path)\n",
    "    for i, j in path:\n",
    "        for a, b in [(i + a, j + b) for a in range(-radius, radius+1) for b in range(-radius, radius+1)]:\n",
    "            path_.add((a, b))\n",
    "            #pass\n",
    "            \n",
    "    window_ = set()\n",
    "    for i, j in path_:\n",
    "        for a, b in ((i * 2, j * 2), (i * 2, j * 2 + 1),\n",
    "                     (i * 2 + 1, j * 2), (i * 2 + 1, j * 2 + 1)):\n",
    "            window_.add((a, b))\n",
    "            #pass\n",
    "        \n",
    "    window = []\n",
    "    start_j = 0\n",
    "    for i in range(0, len_x):\n",
    "        new_start_j = None\n",
    "        for j in range(start_j, len_y):\n",
    "            if (i, j) in window_:\n",
    "                window.append((i, j))\n",
    "                if new_start_j is None:\n",
    "                    new_start_j = j\n",
    "            elif new_start_j is not None:\n",
    "                break\n",
    "        start_j = new_start_j\n",
    "    #pass\n",
    "    return window\n"
   ]
  },
  {
   "cell_type": "code",
   "execution_count": 66,
   "metadata": {},
   "outputs": [
    {
     "name": "stdout",
     "output_type": "stream",
     "text": [
      "1.53 ms ± 196 µs per loop (mean ± std. dev. of 7 runs, 1000 loops each)\n"
     ]
    }
   ],
   "source": [
    "#testing numba\n",
    "%timeit __expand_window_numba(expand_window_input[0],expand_window_input[1],expand_window_input[2],expand_window_input[3])"
   ]
  },
  {
   "cell_type": "code",
   "execution_count": 80,
   "metadata": {},
   "outputs": [
    {
     "name": "stdout",
     "output_type": "stream",
     "text": [
      "858 µs ± 53.4 µs per loop (mean ± std. dev. of 7 runs, 1000 loops each)\n"
     ]
    }
   ],
   "source": [
    "#testing numba\n",
    "%timeit __expand_window(expand_window_input[0],expand_window_input[1],expand_window_input[2],expand_window_input[3])"
   ]
  },
  {
   "cell_type": "code",
   "execution_count": 3,
   "metadata": {},
   "outputs": [],
   "source": [
    "@jit(nopython=True)\n",
    "def __dtw_numba(x, y, window):\n",
    "    len_x, len_y = len(x), len(y)\n",
    "    if window is None:\n",
    "        window = [(i, j) for i in range(len_x) for j in range(len_y)]\n",
    "    window = [(i + 1, j + 1) for i, j in window]\n",
    "\n",
    "    #my code\n",
    "    D=np.full((window[-1][0]+1,window[-1][1]+1,3),np.inf)#,dtype=np.float_)\n",
    "    D[0, 0] = np.array([0, 0, 0])\n",
    "\n",
    "    for i,j in window:\n",
    "        dt = __difference_numba(x[i-1], y[j-1])\n",
    "        priors=np.array([(D[i-1, j][0], i-1, j), (D[i, j-1][0], i, j-1),\n",
    "                      (D[i-1, j-1][0], i-1, j-1)])\n",
    "        D[i,j] = priors[np.argmin(priors[:,0])]\n",
    "        D[i,j][0]+=dt\n",
    "\n",
    "    path = []\n",
    "    i, j = len_x, len_y\n",
    "    while not (i == j == 0):\n",
    "        path.append((i-1, j-1))\n",
    "        i, j = int(D[i, j][1]), int(D[i, j][2])\n",
    "    path.reverse()\n",
    "    return (D[len_x, len_y][0], path)\n"
   ]
  },
  {
   "cell_type": "code",
   "execution_count": 4,
   "metadata": {},
   "outputs": [
    {
     "ename": "NameError",
     "evalue": "name '__dtw_input' is not defined",
     "output_type": "error",
     "traceback": [
      "\u001b[0;31m---------------------------------------------------------------------------\u001b[0m",
      "\u001b[0;31mNameError\u001b[0m                                 Traceback (most recent call last)",
      "\u001b[0;32m<ipython-input-4-e465aacff1b0>\u001b[0m in \u001b[0;36m<module>\u001b[0;34m()\u001b[0m\n\u001b[1;32m      1\u001b[0m \u001b[0;31m#timeit numba\u001b[0m\u001b[0;34m\u001b[0m\u001b[0;34m\u001b[0m\u001b[0m\n\u001b[0;32m----> 2\u001b[0;31m \u001b[0mget_ipython\u001b[0m\u001b[0;34m(\u001b[0m\u001b[0;34m)\u001b[0m\u001b[0;34m.\u001b[0m\u001b[0mrun_line_magic\u001b[0m\u001b[0;34m(\u001b[0m\u001b[0;34m'timeit'\u001b[0m\u001b[0;34m,\u001b[0m \u001b[0;34m'__dtw_numba(__dtw_input[0],__dtw_input[1],__dtw_input[2])'\u001b[0m\u001b[0;34m)\u001b[0m\u001b[0;34m\u001b[0m\u001b[0m\n\u001b[0m",
      "\u001b[0;32m~/.local/lib/python3.5/site-packages/IPython/core/interactiveshell.py\u001b[0m in \u001b[0;36mrun_line_magic\u001b[0;34m(self, magic_name, line, _stack_depth)\u001b[0m\n\u001b[1;32m   2129\u001b[0m                 \u001b[0mkwargs\u001b[0m\u001b[0;34m[\u001b[0m\u001b[0;34m'local_ns'\u001b[0m\u001b[0;34m]\u001b[0m \u001b[0;34m=\u001b[0m \u001b[0msys\u001b[0m\u001b[0;34m.\u001b[0m\u001b[0m_getframe\u001b[0m\u001b[0;34m(\u001b[0m\u001b[0mstack_depth\u001b[0m\u001b[0;34m)\u001b[0m\u001b[0;34m.\u001b[0m\u001b[0mf_locals\u001b[0m\u001b[0;34m\u001b[0m\u001b[0m\n\u001b[1;32m   2130\u001b[0m             \u001b[0;32mwith\u001b[0m \u001b[0mself\u001b[0m\u001b[0;34m.\u001b[0m\u001b[0mbuiltin_trap\u001b[0m\u001b[0;34m:\u001b[0m\u001b[0;34m\u001b[0m\u001b[0m\n\u001b[0;32m-> 2131\u001b[0;31m                 \u001b[0mresult\u001b[0m \u001b[0;34m=\u001b[0m \u001b[0mfn\u001b[0m\u001b[0;34m(\u001b[0m\u001b[0;34m*\u001b[0m\u001b[0margs\u001b[0m\u001b[0;34m,\u001b[0m\u001b[0;34m**\u001b[0m\u001b[0mkwargs\u001b[0m\u001b[0;34m)\u001b[0m\u001b[0;34m\u001b[0m\u001b[0m\n\u001b[0m\u001b[1;32m   2132\u001b[0m             \u001b[0;32mreturn\u001b[0m \u001b[0mresult\u001b[0m\u001b[0;34m\u001b[0m\u001b[0m\n\u001b[1;32m   2133\u001b[0m \u001b[0;34m\u001b[0m\u001b[0m\n",
      "\u001b[0;32m<decorator-gen-61>\u001b[0m in \u001b[0;36mtimeit\u001b[0;34m(self, line, cell, local_ns)\u001b[0m\n",
      "\u001b[0;32m~/.local/lib/python3.5/site-packages/IPython/core/magic.py\u001b[0m in \u001b[0;36m<lambda>\u001b[0;34m(f, *a, **k)\u001b[0m\n\u001b[1;32m    185\u001b[0m     \u001b[0;31m# but it's overkill for just that one bit of state.\u001b[0m\u001b[0;34m\u001b[0m\u001b[0;34m\u001b[0m\u001b[0m\n\u001b[1;32m    186\u001b[0m     \u001b[0;32mdef\u001b[0m \u001b[0mmagic_deco\u001b[0m\u001b[0;34m(\u001b[0m\u001b[0marg\u001b[0m\u001b[0;34m)\u001b[0m\u001b[0;34m:\u001b[0m\u001b[0;34m\u001b[0m\u001b[0m\n\u001b[0;32m--> 187\u001b[0;31m         \u001b[0mcall\u001b[0m \u001b[0;34m=\u001b[0m \u001b[0;32mlambda\u001b[0m \u001b[0mf\u001b[0m\u001b[0;34m,\u001b[0m \u001b[0;34m*\u001b[0m\u001b[0ma\u001b[0m\u001b[0;34m,\u001b[0m \u001b[0;34m**\u001b[0m\u001b[0mk\u001b[0m\u001b[0;34m:\u001b[0m \u001b[0mf\u001b[0m\u001b[0;34m(\u001b[0m\u001b[0;34m*\u001b[0m\u001b[0ma\u001b[0m\u001b[0;34m,\u001b[0m \u001b[0;34m**\u001b[0m\u001b[0mk\u001b[0m\u001b[0;34m)\u001b[0m\u001b[0;34m\u001b[0m\u001b[0m\n\u001b[0m\u001b[1;32m    188\u001b[0m \u001b[0;34m\u001b[0m\u001b[0m\n\u001b[1;32m    189\u001b[0m         \u001b[0;32mif\u001b[0m \u001b[0mcallable\u001b[0m\u001b[0;34m(\u001b[0m\u001b[0marg\u001b[0m\u001b[0;34m)\u001b[0m\u001b[0;34m:\u001b[0m\u001b[0;34m\u001b[0m\u001b[0m\n",
      "\u001b[0;32m~/.local/lib/python3.5/site-packages/IPython/core/magics/execution.py\u001b[0m in \u001b[0;36mtimeit\u001b[0;34m(self, line, cell, local_ns)\u001b[0m\n\u001b[1;32m   1095\u001b[0m             \u001b[0;32mfor\u001b[0m \u001b[0mindex\u001b[0m \u001b[0;32min\u001b[0m \u001b[0mrange\u001b[0m\u001b[0;34m(\u001b[0m\u001b[0;36m0\u001b[0m\u001b[0;34m,\u001b[0m \u001b[0;36m10\u001b[0m\u001b[0;34m)\u001b[0m\u001b[0;34m:\u001b[0m\u001b[0;34m\u001b[0m\u001b[0m\n\u001b[1;32m   1096\u001b[0m                 \u001b[0mnumber\u001b[0m \u001b[0;34m=\u001b[0m \u001b[0;36m10\u001b[0m \u001b[0;34m**\u001b[0m \u001b[0mindex\u001b[0m\u001b[0;34m\u001b[0m\u001b[0m\n\u001b[0;32m-> 1097\u001b[0;31m                 \u001b[0mtime_number\u001b[0m \u001b[0;34m=\u001b[0m \u001b[0mtimer\u001b[0m\u001b[0;34m.\u001b[0m\u001b[0mtimeit\u001b[0m\u001b[0;34m(\u001b[0m\u001b[0mnumber\u001b[0m\u001b[0;34m)\u001b[0m\u001b[0;34m\u001b[0m\u001b[0m\n\u001b[0m\u001b[1;32m   1098\u001b[0m                 \u001b[0;32mif\u001b[0m \u001b[0mtime_number\u001b[0m \u001b[0;34m>=\u001b[0m \u001b[0;36m0.2\u001b[0m\u001b[0;34m:\u001b[0m\u001b[0;34m\u001b[0m\u001b[0m\n\u001b[1;32m   1099\u001b[0m                     \u001b[0;32mbreak\u001b[0m\u001b[0;34m\u001b[0m\u001b[0m\n",
      "\u001b[0;32m~/.local/lib/python3.5/site-packages/IPython/core/magics/execution.py\u001b[0m in \u001b[0;36mtimeit\u001b[0;34m(self, number)\u001b[0m\n\u001b[1;32m    157\u001b[0m         \u001b[0mgc\u001b[0m\u001b[0;34m.\u001b[0m\u001b[0mdisable\u001b[0m\u001b[0;34m(\u001b[0m\u001b[0;34m)\u001b[0m\u001b[0;34m\u001b[0m\u001b[0m\n\u001b[1;32m    158\u001b[0m         \u001b[0;32mtry\u001b[0m\u001b[0;34m:\u001b[0m\u001b[0;34m\u001b[0m\u001b[0m\n\u001b[0;32m--> 159\u001b[0;31m             \u001b[0mtiming\u001b[0m \u001b[0;34m=\u001b[0m \u001b[0mself\u001b[0m\u001b[0;34m.\u001b[0m\u001b[0minner\u001b[0m\u001b[0;34m(\u001b[0m\u001b[0mit\u001b[0m\u001b[0;34m,\u001b[0m \u001b[0mself\u001b[0m\u001b[0;34m.\u001b[0m\u001b[0mtimer\u001b[0m\u001b[0;34m)\u001b[0m\u001b[0;34m\u001b[0m\u001b[0m\n\u001b[0m\u001b[1;32m    160\u001b[0m         \u001b[0;32mfinally\u001b[0m\u001b[0;34m:\u001b[0m\u001b[0;34m\u001b[0m\u001b[0m\n\u001b[1;32m    161\u001b[0m             \u001b[0;32mif\u001b[0m \u001b[0mgcold\u001b[0m\u001b[0;34m:\u001b[0m\u001b[0;34m\u001b[0m\u001b[0m\n",
      "\u001b[0;32m<magic-timeit>\u001b[0m in \u001b[0;36minner\u001b[0;34m(_it, _timer)\u001b[0m\n",
      "\u001b[0;31mNameError\u001b[0m: name '__dtw_input' is not defined"
     ]
    }
   ],
   "source": [
    "#timeit numba\n",
    "%timeit __dtw_numba(__dtw_input[0],__dtw_input[1],__dtw_input[2])"
   ]
  },
  {
   "cell_type": "code",
   "execution_count": 53,
   "metadata": {},
   "outputs": [
    {
     "name": "stdout",
     "output_type": "stream",
     "text": [
      "5.18 ms ± 265 µs per loop (mean ± std. dev. of 7 runs, 100 loops each)\n"
     ]
    }
   ],
   "source": [
    "#timeit python\n",
    "%timeit __dtw(__dtw_input[0],__dtw_input[1],__dtw_input[2],__dtw_input[3])"
   ]
  },
  {
   "cell_type": "code",
   "execution_count": 7,
   "metadata": {},
   "outputs": [],
   "source": [
    "@jit(nopython=True)#not used\n",
    "def __prep_inputs_numba(x, y):\n",
    "    x = np.asanyarray(x, dtype='float')\n",
    "    y = np.asanyarray(y, dtype='float')\n",
    "\n",
    "    if x.ndim == y.ndim > 1 and x.shape[1] != y.shape[1]:\n",
    "        raise ValueError('second dimension of x and y must be the same')\n",
    "\n",
    "    return x, y"
   ]
  },
  {
   "cell_type": "code",
   "execution_count": 14,
   "metadata": {},
   "outputs": [],
   "source": [
    "def __prep_inputs(x, y, dist):\n",
    "    x = np.asanyarray(x, dtype='float')\n",
    "    y = np.asanyarray(y, dtype='float')\n",
    "\n",
    "    if x.ndim == y.ndim > 1 and x.shape[1] != y.shape[1]:\n",
    "        raise ValueError('second dimension of x and y must be the same')\n",
    "    if isinstance(dist, numbers.Number) and dist <= 0:\n",
    "        raise ValueError('dist cannot be a negative integer')\n",
    "\n",
    "    if dist is None:\n",
    "        if x.ndim == 1:\n",
    "            dist = __difference\n",
    "        else:\n",
    "            dist = __norm(p=1)\n",
    "    elif isinstance(dist, numbers.Number):\n",
    "        dist = __norm(p=dist)\n",
    "\n",
    "    return x, y, dist"
   ]
  },
  {
   "cell_type": "code",
   "execution_count": 56,
   "metadata": {},
   "outputs": [],
   "source": [
    "#__prep_inputs_numba(long_array1, long_array2)\n",
    "#__prep_inputs_numba.inspect_types()"
   ]
  },
  {
   "cell_type": "code",
   "execution_count": 8,
   "metadata": {},
   "outputs": [],
   "source": [
    "@jit(nopython=True)\n",
    "def __fastdtw_numba(x, y, radius):\n",
    "    min_time_size = radius + 2\n",
    "\n",
    "    if len(x) < min_time_size or len(y) < min_time_size:\n",
    "        return dtw_numba(x, y)\n",
    "\n",
    "    x_shrinked = __reduce_by_half_numba(x)\n",
    "    y_shrinked = __reduce_by_half_numba(y)\n",
    "    distance, path = \\\n",
    "        __fastdtw_numba(x_shrinked, y_shrinked, radius=radius)\n",
    "    window = __expand_window_numba(path, len(x), len(y), radius)\n",
    "    return __dtw_numba(x, y, window)"
   ]
  },
  {
   "cell_type": "code",
   "execution_count": 17,
   "metadata": {},
   "outputs": [],
   "source": [
    "def __fastdtw(x, y, radius, dist):\n",
    "    min_time_size = radius + 2\n",
    "\n",
    "    if len(x) < min_time_size or len(y) < min_time_size:\n",
    "        return dtw(x, y, dist=dist)\n",
    "\n",
    "    x_shrinked = __reduce_by_half(x)\n",
    "    y_shrinked = __reduce_by_half(y)\n",
    "    distance, path = \\\n",
    "        __fastdtw(x_shrinked, y_shrinked, radius=radius, dist=dist)\n",
    "    window = __expand_window(path, len(x), len(y), radius)\n",
    "    return __dtw(x, y, window, dist=dist)"
   ]
  },
  {
   "cell_type": "code",
   "execution_count": 36,
   "metadata": {},
   "outputs": [
    {
     "name": "stdout",
     "output_type": "stream",
     "text": [
      "1.24 ms ± 11.2 µs per loop (mean ± std. dev. of 7 runs, 1000 loops each)\n"
     ]
    }
   ],
   "source": [
    "%timeit __fastdtw_numba(long_array1, long_array2,1)"
   ]
  },
  {
   "cell_type": "code",
   "execution_count": 15,
   "metadata": {},
   "outputs": [
    {
     "name": "stdout",
     "output_type": "stream",
     "text": [
      "1.24 ms ± 10 µs per loop (mean ± std. dev. of 7 runs, 1000 loops each)\n"
     ]
    }
   ],
   "source": [
    "%timeit fastdtw_numba(long_array1, long_array2,1)"
   ]
  },
  {
   "cell_type": "code",
   "execution_count": 133,
   "metadata": {},
   "outputs": [
    {
     "name": "stdout",
     "output_type": "stream",
     "text": [
      "17.6 ms ± 276 µs per loop (mean ± std. dev. of 7 runs, 100 loops each)\n"
     ]
    }
   ],
   "source": [
    "%timeit fastdtw(long_array1, long_array2)"
   ]
  },
  {
   "cell_type": "code",
   "execution_count": 34,
   "metadata": {},
   "outputs": [
    {
     "name": "stderr",
     "output_type": "stream",
     "text": [
      "/usr/local/lib/python3.5/dist-packages/ipykernel_launcher.py:257: FutureWarning: Conversion of the second argument of issubdtype from `float` to `np.floating` is deprecated. In future, it will be treated as `np.float64 == np.dtype(float).type`.\n"
     ]
    },
    {
     "name": "stdout",
     "output_type": "stream",
     "text": [
      "342 µs ± 20.4 µs per loop (mean ± std. dev. of 7 runs, 1000 loops each)\n"
     ]
    }
   ],
   "source": [
    "%timeit fdtw.fastdtw(long_array1, long_array2)"
   ]
  },
  {
   "cell_type": "code",
   "execution_count": 19,
   "metadata": {},
   "outputs": [
    {
     "name": "stdout",
     "output_type": "stream",
     "text": [
      "1.23 ms ± 20.1 µs per loop (mean ± std. dev. of 7 runs, 1000 loops each)\n"
     ]
    }
   ],
   "source": [
    "%timeit fdtw_numba.fastdtw(long_array1, long_array2)"
   ]
  },
  {
   "cell_type": "code",
   "execution_count": 9,
   "metadata": {},
   "outputs": [],
   "source": [
    "@jit(nopython=True)\n",
    "def fastdtw_numba(x, y, radius=1, dist=None):\n",
    "    ''' return the approximate distance between 2 time series with O(N)\n",
    "        time and memory complexity\n",
    "        Parameters\n",
    "        ----------\n",
    "        x : array_like\n",
    "            input array 1\n",
    "        y : array_like\n",
    "            input array 2\n",
    "        radius : int\n",
    "            size of neighborhood when expanding the path. A higher value will\n",
    "            increase the accuracy of the calculation but also increase time\n",
    "            and memory consumption. A radius equal to the size of x and y will\n",
    "            yield an exact dynamic time warping calculation.\n",
    "        dist : function or int\n",
    "            The method for calculating the distance between x[i] and y[j]. If\n",
    "            dist is an int of value p > 0, then the p-norm will be used. If\n",
    "            dist is a function then dist(x[i], y[j]) will be used. If dist is\n",
    "            None then abs(x[i] - y[j]) will be used.\n",
    "            ##### Currently not functional, always will use abs.\n",
    "        Returns\n",
    "        -------\n",
    "        distance : float\n",
    "            the approximate distance between the 2 time series\n",
    "        path : list\n",
    "            list of indexes for the inputs x and y\n",
    "        Examples\n",
    "        --------\n",
    "        >>> import numpy as np\n",
    "        >>> import fastdtw\n",
    "        >>> x = np.array([1, 2, 3, 4, 5], dtype='float')\n",
    "        >>> y = np.array([2, 3, 4], dtype='float')\n",
    "        >>> fastdtw.fastdtw(x, y)\n",
    "        (2.0, [(0, 0), (1, 0), (2, 1), (3, 2), (4, 2)])\n",
    "    '''\n",
    "    return __fastdtw_numba(x, y, radius)"
   ]
  },
  {
   "cell_type": "code",
   "execution_count": 10,
   "metadata": {},
   "outputs": [],
   "source": [
    "def fastdtw(x, y, radius=1, dist=None):\n",
    "    ''' return the approximate distance between 2 time series with O(N)\n",
    "        time and memory complexity\n",
    "        Parameters\n",
    "        ----------\n",
    "        x : array_like\n",
    "            input array 1\n",
    "        y : array_like\n",
    "            input array 2\n",
    "        radius : int\n",
    "            size of neighborhood when expanding the path. A higher value will\n",
    "            increase the accuracy of the calculation but also increase time\n",
    "            and memory consumption. A radius equal to the size of x and y will\n",
    "            yield an exact dynamic time warping calculation.\n",
    "        dist : function or int\n",
    "            The method for calculating the distance between x[i] and y[j]. If\n",
    "            dist is an int of value p > 0, then the p-norm will be used. If\n",
    "            dist is a function then dist(x[i], y[j]) will be used. If dist is\n",
    "            None then abs(x[i] - y[j]) will be used.\n",
    "        Returns\n",
    "        -------\n",
    "        distance : float\n",
    "            the approximate distance between the 2 time series\n",
    "        path : list\n",
    "            list of indexes for the inputs x and y\n",
    "        Examples\n",
    "        --------\n",
    "        >>> import numpy as np\n",
    "        >>> import fastdtw\n",
    "        >>> x = np.array([1, 2, 3, 4, 5], dtype='float')\n",
    "        >>> y = np.array([2, 3, 4], dtype='float')\n",
    "        >>> fastdtw.fastdtw(x, y)\n",
    "        (2.0, [(0, 0), (1, 0), (2, 1), (3, 2), (4, 2)])\n",
    "    '''\n",
    "    x, y, dist = __prep_inputs(x, y, dist)\n",
    "    return __fastdtw(x, y, radius, dist)"
   ]
  },
  {
   "cell_type": "code",
   "execution_count": 11,
   "metadata": {},
   "outputs": [],
   "source": [
    "@jit(nopython=True)\n",
    "def dtw_numba(x, y):\n",
    "    ''' return the distance between 2 time series without approximation\n",
    "        Parameters\n",
    "        ----------\n",
    "        x : array_like\n",
    "            input array 1\n",
    "        y : array_like\n",
    "            input array 2\n",
    "        dist : function or int\n",
    "            The method for calculating the distance between x[i] and y[j]. If\n",
    "            dist is an int of value p > 0, then the p-norm will be used. If\n",
    "            dist is a function then dist(x[i], y[j]) will be used. If dist is\n",
    "            None then abs(x[i] - y[j]) will be used.\n",
    "        Returns\n",
    "        -------\n",
    "        distance : float\n",
    "            the approximate distance between the 2 time series\n",
    "        path : list\n",
    "            list of indexes for the inputs x and y\n",
    "        Examples\n",
    "        --------\n",
    "        >>> import numpy as np\n",
    "        >>> import fastdtw\n",
    "        >>> x = np.array([1, 2, 3, 4, 5], dtype='float')\n",
    "        >>> y = np.array([2, 3, 4], dtype='float')\n",
    "        >>> fastdtw.dtw(x, y)\n",
    "        (2.0, [(0, 0), (1, 0), (2, 1), (3, 2), (4, 2)])\n",
    "    '''\n",
    "    return __dtw_numba(x, y, None)"
   ]
  },
  {
   "cell_type": "code",
   "execution_count": 20,
   "metadata": {},
   "outputs": [],
   "source": [
    "#@proflie\n",
    "def dtw(x, y, dist=None):\n",
    "    ''' return the distance between 2 time series without approximation\n",
    "        Parameters\n",
    "        ----------\n",
    "        x : array_like\n",
    "            input array 1\n",
    "        y : array_like\n",
    "            input array 2\n",
    "        dist : function or int\n",
    "            The method for calculating the distance between x[i] and y[j]. If\n",
    "            dist is an int of value p > 0, then the p-norm will be used. If\n",
    "            dist is a function then dist(x[i], y[j]) will be used. If dist is\n",
    "            None then abs(x[i] - y[j]) will be used.\n",
    "        Returns\n",
    "        -------\n",
    "        distance : float\n",
    "            the approximate distance between the 2 time series\n",
    "        path : list\n",
    "            list of indexes for the inputs x and y\n",
    "        Examples\n",
    "        --------\n",
    "        >>> import numpy as np\n",
    "        >>> import fastdtw\n",
    "        >>> x = np.array([1, 2, 3, 4, 5], dtype='float')\n",
    "        >>> y = np.array([2, 3, 4], dtype='float')\n",
    "        >>> fastdtw.dtw(x, y)\n",
    "        (2.0, [(0, 0), (1, 0), (2, 1), (3, 2), (4, 2)])\n",
    "    '''\n",
    "    x, y, dist = __prep_inputs(x, y, dist)\n",
    "    return __dtw(x, y, None, dist)"
   ]
  },
  {
   "cell_type": "code",
   "execution_count": null,
   "metadata": {},
   "outputs": [],
   "source": []
  }
 ],
 "metadata": {
  "kernelspec": {
   "display_name": "Python 3",
   "language": "python",
   "name": "python3"
  },
  "language_info": {
   "codemirror_mode": {
    "name": "ipython",
    "version": 3
   },
   "file_extension": ".py",
   "mimetype": "text/x-python",
   "name": "python",
   "nbconvert_exporter": "python",
   "pygments_lexer": "ipython3",
   "version": "3.5.2"
  }
 },
 "nbformat": 4,
 "nbformat_minor": 2
}
